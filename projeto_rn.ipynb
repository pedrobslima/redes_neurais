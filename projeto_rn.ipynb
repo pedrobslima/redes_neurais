{
 "cells": [
  {
   "cell_type": "markdown",
   "metadata": {},
   "source": [
    "# Mini-Projeto MLP-CNN\n",
    "## Centro de Informática da UFPE\n",
    "### IF702 - Redes Neurais\n",
    "### Germano Crispim Vasconcelos\n",
    "\n",
    "14/04/2025\n",
    "\n",
    "Grupo:\n",
    "1. Pedro Lima (pbsl@cin.ufpe.br)\n",
    "2. Pedro de Souza (pbsl@cin.ufpe.br)\n",
    "3. Pedro Barros (pbsl@cin.ufpe.br)\n"
   ]
  },
  {
   "cell_type": "markdown",
   "metadata": {},
   "source": [
    "- Conjunto de classificadores disponíveis:\n",
    "    - Perceptron multicamadas (MLP)\n",
    "    - Kolmogorov Arnold Networks (KANs).\n",
    "    - Modelo Baseado em Transformer (STab) 2024 (em preparação)\n",
    "    - KAN Transformer (TabKANet) 2024 (em preparação)\n",
    "    - Random Forest (usado para comparação)\n",
    "    - Gradient Boosting (usado para comparação)\n",
    "\n",
    "- Investigar diferentes topologias da rede e diferentes valores\n",
    "    dos parâmetros (básico):\n",
    "    - Número de camadas\n",
    "    - Número de unidades intermediárias\n",
    "    - Variação da taxa de aprendizagem\n",
    "    - Função de ativação (logistica, tangent hiperbolica, Relu)\n",
    "    - Otimização: Adam, Drop-out, Regularização\n",
    "    - Usar método de amostragem básica (repetitive oversampling)\n",
    "\n",
    "- Parâmetros adicionais que podem ser explorados:\n",
    "    - Algoritmo de aprendizagem\n",
    "    - Taxa de aprendizagem adaptativa\n",
    "    - Outros"
   ]
  },
  {
   "cell_type": "markdown",
   "metadata": {},
   "source": [
    "### Preparação de dados (divisão e balanceamento)\n",
    "- Conjuntos de dados\n",
    "- Treinamento\n",
    "    - Validação (separar amostra do Treinamento)\n",
    "    - Teste (separar amostra do Treinamento)\n",
    "- Estatisticamente representativos e independentes\n",
    "    - Nenhuma informação do conjunto de teste pode interferir nos conjuntos de treinamento e validação (ex: identificação do mínimo e máximo para normalização). (vazamento de dados)\n",
    "    - Não pode haver sobreposição (contaminação)"
   ]
  },
  {
   "cell_type": "markdown",
   "metadata": {},
   "source": [
    "### Avaliação de Desempenho\n",
    "- Classificação\n",
    "    - Teste estatístico Kolmogorov-Smirnov \n",
    "        - KS (principal) \n",
    "        - MSE (erro médio quadrado)\n",
    "    - Matriz de confusão\n",
    "    - Auroc (Área sob a Curva Roc)\n",
    "    - Recall, Precision e F-Measure"
   ]
  },
  {
   "cell_type": "markdown",
   "metadata": {},
   "source": [
    "### Experimentos\n",
    "- Pré-processamento da base de dados\n",
    "    - Tratamento de dados ausentes, se houver (missing data)\n",
    "    - Remoção de ruídos (outliers), se houver\n",
    "    - Remoção de inconsistências, se houver\n",
    "    - Normalização\n",
    "    - Codificação\n",
    "    - Transformação de variáveis\n",
    "    - Criação de variáveis agregadas\n",
    "- Importante\n",
    "    - Registrar o desempenho de forma evolutiva, a cada etapa. Não\n",
    "    elimine váriáveis no primeiro modelo (a não ser identificadores)\n",
    "\n",
    "- Recomendação:\n",
    "    - Iniciar com um modelo MLP e um modelo\n",
    "    Random Forest\n",
    "    - Após bom desempenho com esses modelos,\n",
    "    experimentar os demais\n",
    "    - KANs, Transformer (tentativo), KAN\n",
    "    Transformer (tentativo)\n",
    "    - Gradient boosting."
   ]
  },
  {
   "cell_type": "markdown",
   "metadata": {},
   "source": [
    "### Ferramentas para o projeto\n",
    "\n",
    "- Código em Python\n",
    "    - https://github.com/RomeroBarata/IF702-redes-neurais\n",
    "\n",
    "- Pode usar qualquer biblioteca, preocupando-se apenas de garantir que está executando corretamente os experimentos e análise de performance (exemplo, usar função do KS que meça corretamente os valores, comparar com os gráficos dos slides neste ppt)\n",
    "- Conjuntos de dados do problema\n",
    "    - Arquivo obtido do Kaggle"
   ]
  },
  {
   "cell_type": "markdown",
   "metadata": {},
   "source": [
    "### Lições aprendidas\n",
    "\n",
    "- Comece com uma rede pequena: 1 camada, 10 unidades (a melhor rede é a menor rede que resolve bem o problema: navalha de Occam)\n",
    "- Definir numero de epocas maximo em 10mil! Usar o critério de parada baseado no Patience (Max Fail = 20)\n",
    "- Taxas de aprendizagem menores requerem mais tempo mas tendem a gerar melhores resultados\n",
    "- Fazer backup automático\n",
    "- Começar cedo, se deixar para ultimo mês, não vai sair!\n",
    "- Considerar Optuna pode ser uma boa estratégia, caso contrário use gridsearch"
   ]
  },
  {
   "cell_type": "markdown",
   "metadata": {},
   "source": [
    "### Resultados do projeto\n",
    "\n",
    "- Apresentação com todos do grupo com estrutura experimental e interpretação dos resultados\n",
    "- Entrega no final do semestre (PPT e código)"
   ]
  },
  {
   "cell_type": "markdown",
   "metadata": {},
   "source": [
    "### Dicionário do Dataset: \n",
    "\n",
    "Atributos de entrada:\n",
    "- gender:\tCustomer's gender (Male/Female)\n",
    "- SeniorCitizen:\tIndicates if the customer is a senior citizen (1 = Yes, 0 = No)\n",
    "- Partner:\tWhether the customer has a partner (Yes/No)\n",
    "- Dependents:\tWhether the customer has dependents (Yes/No)\n",
    "- tenure:\tNumber of months the customer has stayed with the company\n",
    "- PhoneService:\tWhether the customer has a phone service (Yes/No)\n",
    "- MultipleLines:\tWhether the customer has multiple phone lines (No, Yes, No phone service)\n",
    "- InternetService:\tType of internet service (DSL, Fiber optic, No)\n",
    "- OnlineSecurity:\tWhether the customer has online security (Yes, No, No internet service)\n",
    "- OnlineBackup:\tWhether the customer has online backup (Yes, No, No internet service)\n",
    "- DeviceProtection:\tWhether the customer has device protection (Yes, No, No internet service)\n",
    "- TechSupport:\tWhether the customer has tech support (Yes, No, No internet service)\n",
    "- StreamingTV:\tWhether the customer has streaming TV (Yes, No, No internet service)\n",
    "- StreamingMovies:\tWhether the customer has streaming movies (Yes, No, No internet service)\n",
    "- Contract:\tType of contract (Month-to-month, One year, Two year)\n",
    "- PaperlessBilling:\tWhether the customer has paperless billing (Yes/No)\n",
    "- PaymentMethod:\tPayment method used (Electronic check, Mailed check, Bank transfer, Credit card)\n",
    "- MonthlyCharges:\tMonthly charges the customer pays\n",
    "- TotalCharges:\tTotal amount charged to the customer\n",
    "\n",
    "Atributo alvo:\n",
    "- Churn:\tWhether the customer has churned (Yes/No)"
   ]
  },
  {
   "cell_type": "markdown",
   "metadata": {},
   "source": [
    "# Imports e Funções"
   ]
  },
  {
   "cell_type": "code",
   "execution_count": null,
   "metadata": {},
   "outputs": [],
   "source": [
    "# Dataset\n",
    "import pandas as pd\n",
    "from pandas import DataFrame, Series\n",
    "import numpy as np\n",
    "import seaborn as sns\n",
    "#import tensorflow as tf\n",
    "import torch\n",
    "from torch import nn\n",
    "from torchvision import transforms, datasets\n",
    "from torch.utils.data import Dataset, DataLoader, TensorDataset\n",
    "from sklearn.preprocessing import StandardScaler, MinMaxScaler\n",
    "from sklearn.model_selection import train_test_split\n",
    "#from math import log2\n",
    "from random import randint\n",
    "%matplotlib inline"
   ]
  },
  {
   "cell_type": "code",
   "execution_count": null,
   "metadata": {},
   "outputs": [],
   "source": [
    "# Modelos\n",
    "from sklearn.neural_network import MLPClassifier\n",
    "from kan import KAN, KANClassifier # KANClassifier é uma classe feita por mim, da meu fork da biblioteca do pykan no github\n",
    "# [STab]\n",
    "# [KAN Transformer]\n",
    "from sklearn.ensemble import RandomForestClassifier, GradientBoostingClassifier \n",
    "'''import xgboost as xgblib\n",
    "from xgboost import XGBClassifier'''\n",
    "\n",
    "# Ferramentas de ML\n",
    "#import joblib\n",
    "import mlflow\n",
    "import mlflow.sklearn\n",
    "import logging\n",
    "from sklearn.model_selection import GridSearchCV\n",
    "\n",
    "# Avaliação\n",
    "from sklearn.metrics import confusion_matrix\n",
    "from sklearn.metrics import accuracy_score, precision_score, recall_score, f1_score, roc_auc_score, average_precision_score\n",
    "from sklearn.metrics import mean_squared_error as mse\n",
    "from sklearn.model_selection import cross_val_score\n",
    "\n",
    "# Explicabilidade\n",
    "import matplotlib.pyplot as plt\n",
    "import scikitplot as skplt\n",
    "from sklearn.inspection import permutation_importance\n",
    "from sklearn.inspection import PartialDependenceDisplay as pdp\n",
    "from lime import lime_tabular\n",
    "%matplotlib inline"
   ]
  },
  {
   "cell_type": "markdown",
   "metadata": {},
   "source": [
    "Funções tiradas dos scripts disponibilizados:"
   ]
  },
  {
   "cell_type": "code",
   "execution_count": null,
   "metadata": {},
   "outputs": [],
   "source": [
    "def extract_final_losses(history):\n",
    "    \"\"\"Função para extrair o melhor loss de treino e validação.\n",
    "    \n",
    "    Argumento(s):\n",
    "    history -- Objeto retornado pela função fit do keras.\n",
    "    \n",
    "    Retorno:\n",
    "    Dicionário contendo o melhor loss de treino e de validação baseado \n",
    "    no menor loss de validação.\n",
    "    \"\"\"\n",
    "    train_loss = history.history['loss']\n",
    "    val_loss = history.history['val_loss']\n",
    "    idx_min_val_loss = np.argmin(val_loss)\n",
    "    return {'train_loss': train_loss[idx_min_val_loss], 'val_loss': val_loss[idx_min_val_loss]}\n",
    "\n",
    "def plot_training_error_curves(history):\n",
    "    \"\"\"Função para plotar as curvas de erro do treinamento da rede neural.\n",
    "    \n",
    "    Argumento(s):\n",
    "    history -- Objeto retornado pela função fit do keras.\n",
    "    \n",
    "    Retorno:\n",
    "    A função gera o gráfico do treino da rede e retorna None.\n",
    "    \"\"\"\n",
    "    train_loss = history.history['loss']\n",
    "    val_loss = history.history['val_loss']\n",
    "    \n",
    "    fig, ax = plt.subplots()\n",
    "    ax.plot(train_loss, label='Train')\n",
    "    ax.plot(val_loss, label='Validation')\n",
    "    ax.set(title='Training and Validation Error Curves', xlabel='Epochs', ylabel='Loss (MSE)')\n",
    "    ax.legend()\n",
    "    plt.show()\n",
    "\n",
    "def compute_performance_metrics(y, y_pred_class, y_pred_scores=None):\n",
    "    accuracy = accuracy_score(y, y_pred_class)\n",
    "    recall = recall_score(y, y_pred_class)\n",
    "    precision = precision_score(y, y_pred_class)\n",
    "    f1 = f1_score(y, y_pred_class)\n",
    "    performance_metrics = (accuracy, recall, precision, f1)\n",
    "    if y_pred_scores is not None:\n",
    "        skplt.metrics.plot_ks_statistic(y, y_pred_scores)\n",
    "        plt.show()\n",
    "        y_pred_scores = y_pred_scores[:, 1]\n",
    "        auroc = roc_auc_score(y, y_pred_scores)\n",
    "        aupr = average_precision_score(y, y_pred_scores)\n",
    "        performance_metrics = performance_metrics + (auroc, aupr)\n",
    "    return performance_metrics\n",
    "\n",
    "def print_metrics_summary(accuracy, recall, precision, f1, auroc=None, aupr=None):\n",
    "    print()\n",
    "    print(\"{metric:<18}{value:.4f}\".format(metric=\"Accuracy:\", value=accuracy))\n",
    "    print(\"{metric:<18}{value:.4f}\".format(metric=\"Recall:\", value=recall))\n",
    "    print(\"{metric:<18}{value:.4f}\".format(metric=\"Precision:\", value=precision))\n",
    "    print(\"{metric:<18}{value:.4f}\".format(metric=\"F1:\", value=f1))\n",
    "    if auroc is not None:\n",
    "        print(\"{metric:<18}{value:.4f}\".format(metric=\"AUROC:\", value=auroc))\n",
    "    if aupr is not None:\n",
    "        print(\"{metric:<18}{value:.4f}\".format(metric=\"AUPR:\", value=aupr))"
   ]
  },
  {
   "cell_type": "markdown",
   "metadata": {},
   "source": [
    "Funções minhas:"
   ]
  },
  {
   "cell_type": "code",
   "execution_count": null,
   "metadata": {},
   "outputs": [],
   "source": [
    "def pfi(model, x, y, name=None):\n",
    "    result = permutation_importance(model, x, y,n_repeats=30, random_state=0)\n",
    "\n",
    "    #cols = [f\"[{i}] - {x.columns[i]}\" for i in range(len(x.columns))]\n",
    "\n",
    "    cols = ['[0] sex', '[1] age', '[2] creat.plsm.creat', '[3] dim.d.p.d.d.quant', '[4] hemgrm.eos.%',\n",
    "        '[5] hemgrm.hemgb', '[6] hemgrm.leuc', '[7] hemgrm.linf.%', '[8] hemgrm.mono.%',\n",
    "        '[9] hemgrm.neut.%', '[10] hemgrm.plaq', '[11] pot.pot', '[12] prot.c.r.plsm', '[13] sod.sod',\n",
    "        '[14] tgo.ast.tgo', '[15] tpg.alt.tgp', '[16] ureia.plsm.ureia']\n",
    "\n",
    "    importances = pd.Series(result.importances_mean, index=cols)\n",
    "\n",
    "    fig, ax = plt.subplots()\n",
    "\n",
    "    importances.plot.bar(yerr=result.importances_std, ax=ax)\n",
    "\n",
    "    if(name):\n",
    "        ax.set_title(f\"Feature importances on {name} model\")\n",
    "    else:\n",
    "        name = str(model)\n",
    "        i = name.find('(')\n",
    "        ax.set_title(f\"Feature importances on {name[:i]} model\")\n",
    "    ax.set_ylabel(\"Mean performance decrease\")\n",
    "    fig.tight_layout()\n",
    "    plt.show()"
   ]
  },
  {
   "cell_type": "markdown",
   "metadata": {},
   "source": [
    "# Dataset"
   ]
  },
  {
   "cell_type": "code",
   "execution_count": 10,
   "metadata": {},
   "outputs": [
    {
     "name": "stdout",
     "output_type": "stream",
     "text": [
      "Nº de instâncias: 7043\n"
     ]
    },
    {
     "data": {
      "text/html": [
       "<div>\n",
       "<style scoped>\n",
       "    .dataframe tbody tr th:only-of-type {\n",
       "        vertical-align: middle;\n",
       "    }\n",
       "\n",
       "    .dataframe tbody tr th {\n",
       "        vertical-align: top;\n",
       "    }\n",
       "\n",
       "    .dataframe thead th {\n",
       "        text-align: right;\n",
       "    }\n",
       "</style>\n",
       "<table border=\"1\" class=\"dataframe\">\n",
       "  <thead>\n",
       "    <tr style=\"text-align: right;\">\n",
       "      <th></th>\n",
       "      <th>gender</th>\n",
       "      <th>SeniorCitizen</th>\n",
       "      <th>Partner</th>\n",
       "      <th>Dependents</th>\n",
       "      <th>tenure</th>\n",
       "      <th>PhoneService</th>\n",
       "      <th>MultipleLines</th>\n",
       "      <th>InternetService</th>\n",
       "      <th>OnlineSecurity</th>\n",
       "      <th>OnlineBackup</th>\n",
       "      <th>DeviceProtection</th>\n",
       "      <th>TechSupport</th>\n",
       "      <th>StreamingTV</th>\n",
       "      <th>StreamingMovies</th>\n",
       "      <th>Contract</th>\n",
       "      <th>PaperlessBilling</th>\n",
       "      <th>PaymentMethod</th>\n",
       "      <th>MonthlyCharges</th>\n",
       "      <th>TotalCharges</th>\n",
       "      <th>Churn</th>\n",
       "    </tr>\n",
       "  </thead>\n",
       "  <tbody>\n",
       "    <tr>\n",
       "      <th>0</th>\n",
       "      <td>Female</td>\n",
       "      <td>0</td>\n",
       "      <td>Yes</td>\n",
       "      <td>No</td>\n",
       "      <td>1</td>\n",
       "      <td>No</td>\n",
       "      <td>No phone service</td>\n",
       "      <td>DSL</td>\n",
       "      <td>No</td>\n",
       "      <td>Yes</td>\n",
       "      <td>No</td>\n",
       "      <td>No</td>\n",
       "      <td>No</td>\n",
       "      <td>No</td>\n",
       "      <td>Month-to-month</td>\n",
       "      <td>Yes</td>\n",
       "      <td>Electronic check</td>\n",
       "      <td>29.85</td>\n",
       "      <td>29.85</td>\n",
       "      <td>No</td>\n",
       "    </tr>\n",
       "    <tr>\n",
       "      <th>1</th>\n",
       "      <td>Male</td>\n",
       "      <td>0</td>\n",
       "      <td>No</td>\n",
       "      <td>No</td>\n",
       "      <td>34</td>\n",
       "      <td>Yes</td>\n",
       "      <td>No</td>\n",
       "      <td>DSL</td>\n",
       "      <td>Yes</td>\n",
       "      <td>No</td>\n",
       "      <td>Yes</td>\n",
       "      <td>No</td>\n",
       "      <td>No</td>\n",
       "      <td>No</td>\n",
       "      <td>One year</td>\n",
       "      <td>No</td>\n",
       "      <td>Mailed check</td>\n",
       "      <td>56.95</td>\n",
       "      <td>1889.50</td>\n",
       "      <td>No</td>\n",
       "    </tr>\n",
       "    <tr>\n",
       "      <th>2</th>\n",
       "      <td>Male</td>\n",
       "      <td>0</td>\n",
       "      <td>No</td>\n",
       "      <td>No</td>\n",
       "      <td>2</td>\n",
       "      <td>Yes</td>\n",
       "      <td>No</td>\n",
       "      <td>DSL</td>\n",
       "      <td>Yes</td>\n",
       "      <td>Yes</td>\n",
       "      <td>No</td>\n",
       "      <td>No</td>\n",
       "      <td>No</td>\n",
       "      <td>No</td>\n",
       "      <td>Month-to-month</td>\n",
       "      <td>Yes</td>\n",
       "      <td>Mailed check</td>\n",
       "      <td>53.85</td>\n",
       "      <td>108.15</td>\n",
       "      <td>Yes</td>\n",
       "    </tr>\n",
       "    <tr>\n",
       "      <th>3</th>\n",
       "      <td>Male</td>\n",
       "      <td>0</td>\n",
       "      <td>No</td>\n",
       "      <td>No</td>\n",
       "      <td>45</td>\n",
       "      <td>No</td>\n",
       "      <td>No phone service</td>\n",
       "      <td>DSL</td>\n",
       "      <td>Yes</td>\n",
       "      <td>No</td>\n",
       "      <td>Yes</td>\n",
       "      <td>Yes</td>\n",
       "      <td>No</td>\n",
       "      <td>No</td>\n",
       "      <td>One year</td>\n",
       "      <td>No</td>\n",
       "      <td>Bank transfer (automatic)</td>\n",
       "      <td>42.30</td>\n",
       "      <td>1840.75</td>\n",
       "      <td>No</td>\n",
       "    </tr>\n",
       "    <tr>\n",
       "      <th>4</th>\n",
       "      <td>Female</td>\n",
       "      <td>0</td>\n",
       "      <td>No</td>\n",
       "      <td>No</td>\n",
       "      <td>2</td>\n",
       "      <td>Yes</td>\n",
       "      <td>No</td>\n",
       "      <td>Fiber optic</td>\n",
       "      <td>No</td>\n",
       "      <td>No</td>\n",
       "      <td>No</td>\n",
       "      <td>No</td>\n",
       "      <td>No</td>\n",
       "      <td>No</td>\n",
       "      <td>Month-to-month</td>\n",
       "      <td>Yes</td>\n",
       "      <td>Electronic check</td>\n",
       "      <td>70.70</td>\n",
       "      <td>151.65</td>\n",
       "      <td>Yes</td>\n",
       "    </tr>\n",
       "  </tbody>\n",
       "</table>\n",
       "</div>"
      ],
      "text/plain": [
       "   gender  SeniorCitizen Partner  ... MonthlyCharges  TotalCharges Churn\n",
       "0  Female              0     Yes  ...          29.85         29.85    No\n",
       "1    Male              0      No  ...          56.95       1889.50    No\n",
       "2    Male              0      No  ...          53.85        108.15   Yes\n",
       "3    Male              0      No  ...          42.30       1840.75    No\n",
       "4  Female              0      No  ...          70.70        151.65   Yes\n",
       "\n",
       "[5 rows x 20 columns]"
      ]
     },
     "execution_count": 10,
     "metadata": {},
     "output_type": "execute_result"
    }
   ],
   "source": [
    "df = pd.read_csv('customer_churn_telecom_services.csv', header=0)\n",
    "print('Nº de instâncias:', len(df))\n",
    "df.head()"
   ]
  },
  {
   "cell_type": "code",
   "execution_count": 9,
   "metadata": {},
   "outputs": [
    {
     "data": {
      "text/plain": [
       "gender               object\n",
       "SeniorCitizen         int64\n",
       "Partner              object\n",
       "Dependents           object\n",
       "tenure                int64\n",
       "PhoneService         object\n",
       "MultipleLines        object\n",
       "InternetService      object\n",
       "OnlineSecurity       object\n",
       "OnlineBackup         object\n",
       "DeviceProtection     object\n",
       "TechSupport          object\n",
       "StreamingTV          object\n",
       "StreamingMovies      object\n",
       "Contract             object\n",
       "PaperlessBilling     object\n",
       "PaymentMethod        object\n",
       "MonthlyCharges      float64\n",
       "TotalCharges        float64\n",
       "Churn                object\n",
       "dtype: object"
      ]
     },
     "execution_count": 9,
     "metadata": {},
     "output_type": "execute_result"
    }
   ],
   "source": [
    "# Tipos das colunas\n",
    "df.dtypes"
   ]
  },
  {
   "cell_type": "code",
   "execution_count": 11,
   "metadata": {},
   "outputs": [
    {
     "data": {
      "text/plain": [
       "gender                 2\n",
       "SeniorCitizen          2\n",
       "Partner                2\n",
       "Dependents             2\n",
       "tenure                73\n",
       "PhoneService           2\n",
       "MultipleLines          3\n",
       "InternetService        3\n",
       "OnlineSecurity         3\n",
       "OnlineBackup           3\n",
       "DeviceProtection       3\n",
       "TechSupport            3\n",
       "StreamingTV            3\n",
       "StreamingMovies        3\n",
       "Contract               3\n",
       "PaperlessBilling       2\n",
       "PaymentMethod          4\n",
       "MonthlyCharges      1585\n",
       "TotalCharges        6530\n",
       "Churn                  2\n",
       "dtype: int64"
      ]
     },
     "execution_count": 11,
     "metadata": {},
     "output_type": "execute_result"
    }
   ],
   "source": [
    "# Quantiade de valores únicos por coluna\n",
    "df.nunique()"
   ]
  },
  {
   "cell_type": "code",
   "execution_count": 36,
   "metadata": {},
   "outputs": [
    {
     "name": "stdout",
     "output_type": "stream",
     "text": [
      "gender\n",
      "Male      3555\n",
      "Female    3488\n",
      "Name: count, dtype: int64 \n",
      "\n",
      "SeniorCitizen\n",
      "0    5901\n",
      "1    1142\n",
      "Name: count, dtype: int64 \n",
      "\n",
      "Partner\n",
      "No     3641\n",
      "Yes    3402\n",
      "Name: count, dtype: int64 \n",
      "\n",
      "Dependents\n",
      "No     4933\n",
      "Yes    2110\n",
      "Name: count, dtype: int64 \n",
      "\n",
      "PhoneService\n",
      "Yes    6361\n",
      "No      682\n",
      "Name: count, dtype: int64 \n",
      "\n",
      "MultipleLines\n",
      "No                  3390\n",
      "Yes                 2971\n",
      "No phone service     682\n",
      "Name: count, dtype: int64 \n",
      "\n",
      "InternetService\n",
      "Fiber optic    3096\n",
      "DSL            2421\n",
      "No             1526\n",
      "Name: count, dtype: int64 \n",
      "\n",
      "OnlineSecurity\n",
      "No                     3498\n",
      "Yes                    2019\n",
      "No internet service    1526\n",
      "Name: count, dtype: int64 \n",
      "\n",
      "OnlineBackup\n",
      "No                     3088\n",
      "Yes                    2429\n",
      "No internet service    1526\n",
      "Name: count, dtype: int64 \n",
      "\n",
      "DeviceProtection\n",
      "No                     3095\n",
      "Yes                    2422\n",
      "No internet service    1526\n",
      "Name: count, dtype: int64 \n",
      "\n",
      "TechSupport\n",
      "No                     3473\n",
      "Yes                    2044\n",
      "No internet service    1526\n",
      "Name: count, dtype: int64 \n",
      "\n",
      "StreamingTV\n",
      "No                     2810\n",
      "Yes                    2707\n",
      "No internet service    1526\n",
      "Name: count, dtype: int64 \n",
      "\n",
      "StreamingMovies\n",
      "No                     2785\n",
      "Yes                    2732\n",
      "No internet service    1526\n",
      "Name: count, dtype: int64 \n",
      "\n",
      "Contract\n",
      "Month-to-month    3875\n",
      "Two year          1695\n",
      "One year          1473\n",
      "Name: count, dtype: int64 \n",
      "\n",
      "PaperlessBilling\n",
      "Yes    4171\n",
      "No     2872\n",
      "Name: count, dtype: int64 \n",
      "\n",
      "PaymentMethod\n",
      "Electronic check             2365\n",
      "Mailed check                 1612\n",
      "Bank transfer (automatic)    1544\n",
      "Credit card (automatic)      1522\n",
      "Name: count, dtype: int64 \n",
      "\n",
      "Churn\n",
      "No     5174\n",
      "Yes    1869\n",
      "Name: count, dtype: int64 \n",
      "\n"
     ]
    }
   ],
   "source": [
    "# Quantiades de cada valor único por coluna\n",
    "for col in df.columns:\n",
    "    unique_values = df[col].value_counts()\n",
    "    if(len(unique_values) <= 4):\n",
    "        print(unique_values, '\\n')"
   ]
  },
  {
   "cell_type": "markdown",
   "metadata": {},
   "source": [
    "Pelas quantidades de aparições de cada valor nas colunas, se fizermos um shuffling ao dividir o dataset em treino e teste, provavelmente não teremos problemas."
   ]
  },
  {
   "cell_type": "code",
   "execution_count": null,
   "metadata": {},
   "outputs": [
    {
     "data": {
      "text/plain": [
       "gender              False\n",
       "SeniorCitizen       False\n",
       "Partner             False\n",
       "Dependents          False\n",
       "tenure              False\n",
       "PhoneService        False\n",
       "MultipleLines       False\n",
       "InternetService     False\n",
       "OnlineSecurity      False\n",
       "OnlineBackup        False\n",
       "DeviceProtection    False\n",
       "TechSupport         False\n",
       "StreamingTV         False\n",
       "StreamingMovies     False\n",
       "Contract            False\n",
       "PaperlessBilling    False\n",
       "PaymentMethod       False\n",
       "MonthlyCharges      False\n",
       "TotalCharges         True\n",
       "Churn               False\n",
       "dtype: bool"
      ]
     },
     "execution_count": 37,
     "metadata": {},
     "output_type": "execute_result"
    }
   ],
   "source": [
    "# Procurando valores nulos\n",
    "df.isna().any()"
   ]
  },
  {
   "cell_type": "markdown",
   "metadata": {},
   "source": [
    "Apenas a coluna TotalCharges (valor total cobrado ao cliente) possui valores nulos."
   ]
  },
  {
   "cell_type": "code",
   "execution_count": 38,
   "metadata": {},
   "outputs": [
    {
     "data": {
      "text/plain": [
       "11"
      ]
     },
     "execution_count": 38,
     "metadata": {},
     "output_type": "execute_result"
    }
   ],
   "source": [
    "# Número de valores nulos\n",
    "df['TotalCharges'].isna().sum()"
   ]
  },
  {
   "cell_type": "markdown",
   "metadata": {},
   "source": [
    "Pela quantidade, pode-se usar um KNNImputer ou trocar pelo valor mediano da coluna."
   ]
  },
  {
   "cell_type": "markdown",
   "metadata": {},
   "source": [
    "## Divisão do dataset"
   ]
  },
  {
   "cell_type": "code",
   "execution_count": null,
   "metadata": {},
   "outputs": [],
   "source": [
    "seed = randint(0, 4294967295)\n",
    "df_train, df_test = train_test_split(df, test_size=0.25, shuffle=True, random_state=seed)\n",
    "#df_train, df_val = train_test_split(df_train, test_size=1/3, shuffle=True, random_state=seed)\n",
    "print(seed)"
   ]
  },
  {
   "cell_type": "markdown",
   "metadata": {},
   "source": [
    "# Modelos de ML\n",
    "Treinamento, teste e avaliações"
   ]
  },
  {
   "cell_type": "markdown",
   "metadata": {},
   "source": [
    "### Multi-Layer Perceptron"
   ]
  },
  {
   "cell_type": "markdown",
   "metadata": {},
   "source": [
    "- hidden_layer_sizes (estrura da rede)\n",
    "- activation (função de ativação)\n",
    "- solver* (algoritmo de aprendizagem/otimizador)\n",
    "- learning_rate_init (taxa de aprendizado)\n",
    "- learning_rate* (taxa de aprendizado fixa ou adaptativa)\n",
    "- alpha (regularização L1)\n",
    "- max_iter = 10000 (número máximo de épocas)\n",
    "- early_stopping = True (usar early stopping)\n",
    "- n_iter_no_change = 20 (paciência)\n",
    "- shuffle = True\n",
    "- random_state = seed\n",
    "\n",
    "* = opcional"
   ]
  },
  {
   "cell_type": "code",
   "execution_count": null,
   "metadata": {},
   "outputs": [],
   "source": [
    "mlp = MLPClassifier()#.fit(X_train, y_train)"
   ]
  },
  {
   "cell_type": "markdown",
   "metadata": {},
   "source": [
    "### Kolmogorov-Arnold Network"
   ]
  },
  {
   "cell_type": "markdown",
   "metadata": {},
   "source": [
    "- width (estrutura da rede)\n",
    "- grid (número de intervalos do grid)\n",
    "- k (ordem do spline)\n",
    "- random_state = seed\n",
    "- lr (taxa de aprendizado)\n",
    "- steps (número de épocas)\n",
    "- opt* (algoritmo de aprendizagem/otimizador)\n",
    "\n",
    "* = opcional"
   ]
  },
  {
   "cell_type": "code",
   "execution_count": null,
   "metadata": {},
   "outputs": [],
   "source": [
    "kanet = KANClassifier()#.fit(X_train, y_train)"
   ]
  },
  {
   "cell_type": "markdown",
   "metadata": {},
   "source": [
    "### STab"
   ]
  },
  {
   "cell_type": "markdown",
   "metadata": {},
   "source": [
    "### TabKANet"
   ]
  },
  {
   "cell_type": "markdown",
   "metadata": {},
   "source": [
    "### Random Forest"
   ]
  },
  {
   "cell_type": "code",
   "execution_count": null,
   "metadata": {},
   "outputs": [],
   "source": [
    "rforest = RandomForestClassifier()#.fit(X_train, y_train)"
   ]
  },
  {
   "cell_type": "code",
   "execution_count": null,
   "metadata": {},
   "outputs": [],
   "source": [
    "RandomForestClassifier().fit()"
   ]
  },
  {
   "cell_type": "markdown",
   "metadata": {},
   "source": [
    "### Grandient Boosting"
   ]
  },
  {
   "cell_type": "code",
   "execution_count": null,
   "metadata": {},
   "outputs": [],
   "source": [
    "gboost = GradientBoostingClassifier()#.fit(X_train, y_train)"
   ]
  },
  {
   "cell_type": "markdown",
   "metadata": {},
   "source": [
    "#### XGBoost"
   ]
  },
  {
   "cell_type": "code",
   "execution_count": null,
   "metadata": {},
   "outputs": [],
   "source": [
    "#xgb = XGBClassifier.fit(X_train, y_train)"
   ]
  },
  {
   "cell_type": "markdown",
   "metadata": {},
   "source": [
    "#### Caso queira usar a biblioteca da KAN (pykan) original:"
   ]
  },
  {
   "cell_type": "code",
   "execution_count": null,
   "metadata": {},
   "outputs": [],
   "source": [
    "'''from kan import *\n",
    "from sklearn.base import BaseEstimator\n",
    "from sklearn.utils.validation import check_is_fitted\n",
    "\n",
    "# Função de perda:\n",
    "class kanLoss(torch.nn.CrossEntropyLoss):\n",
    "  def forward(self, input, target):\n",
    "        return super().forward(input.type(torch.float64), target.type(torch.long))\n",
    "\n",
    "# Classe do modelo KAN: (TODO: Maybe change the declare args so the base KAN model is declared inside the KANClassifier?)\n",
    "class KANClassifier(BaseEstimator):\n",
    "    #Classe para o modelo KAN, para que se pareça mais com outras classes de\n",
    "    #modelos de AM do scikit-learn\n",
    "\n",
    "    #Parâmetros:\n",
    "    #- model: modelo original da classe MultKAN() | KAN()\n",
    "\n",
    "    #Exp.: KANnet(KAN(width=[2,2], grid=3, k=3))\n",
    "    \n",
    "    def __init__(self, model:KAN) -> None:\n",
    "       self.model = model\n",
    "       self._estimator_type = \"classifier\"\n",
    "       self.data = {}\n",
    "       self.results = {}\n",
    "       self.accuracy = None\n",
    "       self.precision = None\n",
    "       self.recall = None\n",
    "\n",
    "    def get_params(self, deep=False):\n",
    "        # suppose this estimator has parameters \"alpha\" and \"recursive\"\n",
    "        return {\"width\": self.model.width, \"grid\": self.model.grid, \"k\": self.model.k}\n",
    "\n",
    "    # Transformação de dataset:\n",
    "    def __dt4kan(self, datarray):\n",
    "        if isinstance(datarray, np.ndarray):\n",
    "            return torch.from_numpy(datarray).float()\n",
    "        elif isinstance(datarray, torch.Tensor):\n",
    "            return datarray\n",
    "        return torch.from_numpy(np.array(datarray)).float()\n",
    "\n",
    "    # Métricas\n",
    "    def train_acc(self):\n",
    "        return torch.mean((torch.argmax(self.model(self.data['train_input']), dim=1) == self.data['train_label']).float())\n",
    "\n",
    "    def test_acc(self):\n",
    "        return torch.mean((torch.argmax(self.model(self.data['test_input']), dim=1) == self.data['test_label']).float())\n",
    "\n",
    "    def test_prec(self, lbl = 1):\n",
    "        p_hat = (torch.argmax(torch.softmax(self.model(self.data['test_input']), dim=1), dim=1) == lbl)\n",
    "        vp = (p_hat & (self.data['test_label'].float() == lbl))\n",
    "        return (vp.sum()/p_hat.sum()).float()\n",
    "\n",
    "    def test_recall(self):\n",
    "        p = (self.data['test_label'] == 1)\n",
    "        vp = (p & (torch.argmax(torch.softmax(self.model(self.data['test_input']), dim=1), dim=1) == 1))\n",
    "        return (vp.sum()/p.sum()).float()\n",
    "\n",
    "    # Fit\n",
    "    # TODO: \n",
    "    # - Include all arguments of the original fit function from MultKAN\n",
    "    # - Add possibility of adding other metrics (?)\n",
    "    def fit(self, dataset:dict, opt=\"LBFGS\", steps:int=20, loss_fn=kanLoss()):\n",
    "        #Função de treinamento do modelo KAN\n",
    "\n",
    "        #Parâmetros:\n",
    "        #- dataset: <dict[Tensor]> que deve ter as seguintes chaves:\n",
    "        #    - \"train_input\"\n",
    "        #    - \"train_label\"\n",
    "        #    - \"test_input\"\n",
    "        #    - \"test_label\"\n",
    "\n",
    "        #- opt: ...\n",
    "        #- steps: ...\n",
    "        #- loss_fn: ...\n",
    "        \n",
    "        self.is_fitted_ = True\n",
    "        self.data = dataset\n",
    "        self.classes_ = self.data['train_label'].unique()\n",
    "\n",
    "        self.results = self.model.fit(self.data,\n",
    "                                      opt=opt,\n",
    "                                      steps=steps,\n",
    "                                      metrics=(self.train_acc,\n",
    "                                               self.test_acc,\n",
    "                                               self.test_prec,\n",
    "                                               self.test_recall),\n",
    "                                      loss_fn=loss_fn)\n",
    "        self.accuracy, self.precision, self.recall = self.results['test_acc'][-1], self.results['test_prec'][-1], self.results['test_recall'][-1]\n",
    "        self.classes_ = np.array([i for i in range(self.predict_proba(self.data['test_input'][:2]).shape[1])])\n",
    "        return self\n",
    "\n",
    "    # Predições:\n",
    "    def predict(self, new_data:torch.Tensor | np.ndarray) -> np.ndarray:\n",
    "        sklearn.utils.validation.check_is_fitted(self)\n",
    "        new_data = self.__dt4kan(new_data)\n",
    "        return torch.argmax(torch.softmax(self.model(new_data), dim=1), dim=1).detach().numpy()\n",
    "\n",
    "    def predict_proba(self, new_data:torch.Tensor | np.ndarray) -> np.ndarray:\n",
    "        new_data = self.__dt4kan(new_data)\n",
    "        return torch.softmax(self.model(new_data), dim=1).detach().numpy()\n",
    "\n",
    "    def score(self, X, y):\n",
    "        return accuracy_score(y, self.predict(X))\n",
    "\n",
    "    # Plotting:\n",
    "    def plot(self, beta=100):\n",
    "        self.model.plot(beta=beta) # não sei para que serve o beta\n",
    "\n",
    "    # TODO: Change this function to return the figure, instead of just showing it right away\n",
    "    def plot_metric(self, metric:str):\n",
    "        if(metric not in ('loss', 'train_loss', 'test_loss', 'acc', 'train_acc', 'test_acc', 'test_prec', 'test_recall')):\n",
    "            raise ValueError(f\"'{metric}' isn't a valid plottable metrics, which are: 'loss', 'train_loss', 'test_loss', 'acc', 'train_acc', 'test_acc', 'test_prec', 'test_recall'\")\n",
    "\n",
    "        if((metric == 'loss') or (metric == 'acc')):\n",
    "            plot0 = [float(x) for x in self.results['train_'+metric]]\n",
    "            plot1 = [float(x) for x in self.results['test_'+metric]]\n",
    "            sns.lineplot(y=plot0, x=range(1, len(plot0) + 1))\n",
    "        else:\n",
    "            plot1 = [float(x) for x in self.results[metric]]\n",
    "        sns.lineplot(y=plot1, x=range(1, len(plot1) + 1))\n",
    "\n",
    "        title = metric\n",
    "        if(title[-3:] == 'acc'):\n",
    "            title += 'uracy'\n",
    "        if(title[0] == 't'):\n",
    "            if(title[-4:] == 'prec'):\n",
    "                title += 'ision'\n",
    "            i = title.index('_')\n",
    "            title = f'{title[i+1:]} ({title[:i]})'\n",
    "        plt.title(title.capitalize())\n",
    "\n",
    "        plt.show()\n",
    "'''"
   ]
  }
 ],
 "metadata": {
  "kernelspec": {
   "display_name": "mainpy",
   "language": "python",
   "name": "python3"
  },
  "language_info": {
   "codemirror_mode": {
    "name": "ipython",
    "version": 3
   },
   "file_extension": ".py",
   "mimetype": "text/x-python",
   "name": "python",
   "nbconvert_exporter": "python",
   "pygments_lexer": "ipython3",
   "version": "3.12.2"
  }
 },
 "nbformat": 4,
 "nbformat_minor": 2
}
